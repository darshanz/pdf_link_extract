{
 "cells": [
  {
   "cell_type": "code",
   "execution_count": null,
   "id": "8b837629",
   "metadata": {},
   "outputs": [],
   "source": [
    "try:\n",
    "    import PyPDF2\n",
    "except:\n",
    "    !pip install pypdf2\n",
    "    import PyPDF2"
   ]
  },
  {
   "cell_type": "code",
   "execution_count": null,
   "id": "74d1e837",
   "metadata": {},
   "outputs": [],
   "source": [
    "PDF_FILE = \"FILENAME.PDF\"    \n",
    "def print_kv(object):\n",
    "    try:\n",
    "        for keya, valuea in object.getObject().items():\n",
    "            print(valuea.getObject())\n",
    "            try:\n",
    "                print_kv(valuea)\n",
    "            except:\n",
    "                pass\n",
    "    except:\n",
    "        pass\n",
    "\n",
    "def print_urls(file_pdf, page_num):\n",
    "    PDF = PyPDF2.PdfFileReader(open(file_pdf,'rb'))\n",
    "    pages = PDF.getNumPages()\n",
    "    print(f\"Page Number: {page_num}\")\n",
    "    pageObject = PDF.getPage(page_num-1).getObject()\n",
    "    annots  = pageObject['/Annots']\n",
    "    for annot in annots:\n",
    "        print_kv(annot)\n",
    "        \n",
    "        \n",
    "pdf_ = PDF_FILE\n",
    "print_urls(pdf_, 1)"
   ]
  }
 ],
 "metadata": {
  "kernelspec": {
   "display_name": "Python 3 (ipykernel)",
   "language": "python",
   "name": "python3"
  },
  "language_info": {
   "codemirror_mode": {
    "name": "ipython",
    "version": 3
   },
   "file_extension": ".py",
   "mimetype": "text/x-python",
   "name": "python",
   "nbconvert_exporter": "python",
   "pygments_lexer": "ipython3",
   "version": "3.7.9"
  }
 },
 "nbformat": 4,
 "nbformat_minor": 5
}
